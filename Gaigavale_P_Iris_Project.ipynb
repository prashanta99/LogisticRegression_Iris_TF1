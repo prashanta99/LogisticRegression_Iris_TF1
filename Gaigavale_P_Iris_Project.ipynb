{
 "cells": [
  {
   "cell_type": "markdown",
   "metadata": {},
   "source": [
    "# Machine Learning to classify Iris species based on its sepal and petal dimensions using Logistic regression"
   ]
  },
  {
   "cell_type": "markdown",
   "metadata": {},
   "source": []
  },
  {
   "cell_type": "code",
   "execution_count": 53,
   "metadata": {},
   "outputs": [],
   "source": [
    "import sys\n",
    "import numpy as np\n",
    "import tensorflow as tf\n",
    "import pandas as pd\n",
    "import matplotlib.pyplot as plt"
   ]
  },
  {
   "cell_type": "markdown",
   "metadata": {},
   "source": [
    "## Define Functions"
   ]
  },
  {
   "cell_type": "markdown",
   "metadata": {},
   "source": [
    "### 1.     Function - create_label_dict\n",
    "####          This function will be used to create dictionary that will be used for mapping the species (in the dataset) to number (basis vector). {'Iris-setosa':[1, 0, 0], 'Iris-versicolor':[0, 1, 0], 'Iris-virginica':[0, 0, 1]}\n",
    "####          We use basis vector like mapping because the predicted o/p is ,3 shaped array\n",
    "####          input is unique values of 'species' in Iris dataset   and ouput is a dictionary "
   ]
  },
  {
   "cell_type": "code",
   "execution_count": 54,
   "metadata": {},
   "outputs": [],
   "source": [
    "def create_label_dict(unique_labels):\n",
    "    \"\"\"\n",
    "    This will generate numeric mappings for the label columns -- ex 'Iris_setosa' will be mapped as [1,0,0]\n",
    "    \"\"\"\n",
    "    a_len = len(unique_labels)\n",
    "    b_arr = []\n",
    "    label_dict = {}\n",
    "    ind = 0\n",
    "    for i in unique_labels: \n",
    "        for j in range(a_len):\n",
    "            if j == (ind):\n",
    "                b_arr.append(1)\n",
    "            else:\n",
    "                b_arr.append(0)\n",
    "        ind+=1\n",
    "    \n",
    "        label_dict[i]=np.array(b_arr)\n",
    "        b_arr.clear()\n",
    "    return label_dict"
   ]
  },
  {
   "cell_type": "markdown",
   "metadata": {},
   "source": [
    "### 2.     Function - analyze_initial_dataset\n",
    "####          This function is to analyze the data in the dataset - We know the min, max, mean , stddiv of each feature and plot scatter plot to                    see the classification of each species"
   ]
  },
  {
   "cell_type": "code",
   "execution_count": 55,
   "metadata": {},
   "outputs": [],
   "source": [
    "def analyze_initial_dataset(dataframe, feature_columns,label_column):\n",
    "    \"\"\"\n",
    "    Print summary of the data (Min, max, mean, stddiv)\n",
    "    Plot scatterplot to show classifiction distribution of the three classes of Iris species\n",
    "    \"\"\"\n",
    "    data = dataframe\n",
    "    \n",
    "    ## display summary information of the Iris dataset\n",
    "    print(\"-------------------   Summary information of Iris Dataset   ---------------------------\")\n",
    "    print(data.describe())\n",
    "    print(' ')\n",
    "    print(\"---------------   End of Summary information of Iris Dataset   ------------------------\")\n",
    "    print(\" \")\n",
    "    ## this is the only place hardcoded as scatterplot will not accept bias vector [1,0,0] kind of values\n",
    "    data[label_column] = data[label_column].map({'Iris-setosa':0, 'Iris-versicolor':1, 'Iris-virginica':2})\n",
    "    \n",
    "    features_frame  = data.loc[0:, feature_columns]\n",
    "    labels_frame = data.loc[0:,label_column]\n",
    "    \n",
    "    ## Plot scatter plot with x = petal length Vs y = sepal length\n",
    "    ## to get a basic idea of the classification\n",
    "    \n",
    "    plt.scatter(features_frame['petal_length'].values,\n",
    "                features_frame['sepal_length'].values,\n",
    "                c=labels_frame.values,\n",
    "                cmap='viridis')\n",
    "    plt.title(\"Classification of Iris Species\")\n",
    "    plt.xlabel(\"Petal length\")\n",
    "    plt.ylabel(\"Sepal length\")"
   ]
  },
  {
   "cell_type": "markdown",
   "metadata": {},
   "source": [
    "### 3.    Function - create_Train_Test_dataset\n",
    "####         This function will accept a filename, create mappings for Label columns,   create seperate datasets for Training and Testing with                  80/20 percent split   "
   ]
  },
  {
   "cell_type": "code",
   "execution_count": 56,
   "metadata": {},
   "outputs": [],
   "source": [
    "def create_Train_Test_dataset(dataframe,label_column_name, split_fract):\n",
    "    \"\"\"\n",
    "    Create Training and Testing Dataset\n",
    "    \"\"\"\n",
    "    data=dataframe\n",
    "    data = data.sample(frac=1).reset_index(drop=True)\n",
    "    unique_values=list(data[label_column_name].unique())\n",
    "    label_dict={}\n",
    "    label_dict=create_label_dict(unique_values)\n",
    "    data[label_column_name] = data[label_column_name].map(label_dict)\n",
    "    print('Total Number of records in Iris Dataset is ',len(data))\n",
    "    np.random.seed(1)\n",
    "    probs = np.random.rand(len(data))\n",
    "    #print(probs)\n",
    "    training_data = data[probs <= split_fract]\n",
    "    testing_data = data[probs > split_fract]\n",
    "    #print(training_data.describe)\n",
    "    training_data = training_data.reset_index(drop=True)\n",
    "    testing_data= testing_data.reset_index(drop=True)\n",
    "    print(\"Total number of records in Training Set :\", len(training_data))\n",
    "    print(\"Total number of records in Testing Set :\", len(testing_data))\n",
    "    print(\"  \")\n",
    "    return training_data, testing_data"
   ]
  },
  {
   "cell_type": "markdown",
   "metadata": {},
   "source": [
    "### 4. Function - get_features_labels\n",
    "####     This function returns two frames with data , one of features and one of Labels,  from the given dataset"
   ]
  },
  {
   "cell_type": "code",
   "execution_count": 46,
   "metadata": {},
   "outputs": [],
   "source": [
    "def get_features_labels(df, features_column_name, label_column_name):\n",
    "    \"\"\"\n",
    "    Return Features and Labels dataframes from the given dataset\n",
    "    \"\"\"\n",
    "    features_frame  = df.loc[0:, features_column_name]\n",
    "    labels_frame = df.loc[0:,label_column_name]\n",
    "    return features_frame, labels_frame   \n"
   ]
  },
  {
   "cell_type": "markdown",
   "metadata": {},
   "source": [
    "### 5. Function -  reg_model\n",
    "####     This function is the main logic/function of the model. We use \"softmax\" function for the prediction of the label"
   ]
  },
  {
   "cell_type": "code",
   "execution_count": 47,
   "metadata": {},
   "outputs": [],
   "source": [
    "def reg_model(x, W, b):\n",
    "    \"\"\"\n",
    "    Model for prediction\n",
    "    \"\"\"\n",
    "    y_predicted = tf.nn.softmax(tf.matmul(x, W) + b)\n",
    "    return y_predicted\n",
    "    "
   ]
  },
  {
   "cell_type": "markdown",
   "metadata": {},
   "source": [
    "### 6.   Function - loss\n",
    "####        This function calculates the loss -- W (Weights) gets calculated based on the loss. It used tensorflow's \"reduce_mean\" function\n",
    "####         since we are using bias vector [1,0,0] kind of mapping for labels it seems that tf.nn.softmax_cross_entropy_with_logits is not giving the best results. It will be good if the mapping was like 0 , 1, 2 for each class"
   ]
  },
  {
   "cell_type": "code",
   "execution_count": 48,
   "metadata": {},
   "outputs": [],
   "source": [
    "def loss(y_predicted, y):\n",
    "    \"\"\"\n",
    "    Calculate loss during prediction process\n",
    "    \"\"\"\n",
    "    ##return tf.reduce_mean(tf.nn.softmax_cross_entropy_with_logits(labels=y, logits=y_predicted))\n",
    "    return tf.reduce_mean(-tf.reduce_sum(y * tf.log(y_predicted), reduction_indices=[1]))\n"
   ]
  },
  {
   "cell_type": "markdown",
   "metadata": {},
   "source": [
    "### 7. Function - optimize_loss\n",
    "####     This function will use \"tf.train.AdamOptimizer\" to optimize the loss"
   ]
  },
  {
   "cell_type": "code",
   "execution_count": 49,
   "metadata": {},
   "outputs": [],
   "source": [
    "def optimize_loss(learning_rate,total_loss):\n",
    "    \"\"\"\n",
    "    Optimize loss\n",
    "    \"\"\"\n",
    "    ##optimizer = tf.train.GradientDescentOptimizer(learning_rate=0.01).minimize(total_loss)\n",
    "    return tf.train.AdamOptimizer(learning_rate).minimize(total_loss)"
   ]
  },
  {
   "cell_type": "markdown",
   "metadata": {},
   "source": [
    "### 8. Function - calculate_accuracy\n",
    "####     This function will calculate the accuracy of prediction using tf.argmax and reduce_mean functions"
   ]
  },
  {
   "cell_type": "code",
   "execution_count": 57,
   "metadata": {},
   "outputs": [],
   "source": [
    "def calculate_accuracy(y, y_predicted):\n",
    "    \"\"\"\n",
    "    Calculate accuracy of the prediction\n",
    "    \"\"\"\n",
    "    correct_prediction = tf.equal(tf.argmax(y_predicted, 1), tf.argmax(y, 1))\n",
    "    return tf.reduce_mean(tf.cast(correct_prediction, tf.float32))"
   ]
  },
  {
   "cell_type": "markdown",
   "metadata": {},
   "source": [
    "### 9.   Function -  run_model\n",
    "####        This is the main function to run the program and build the graph - This takes as input, 1. data file name, 2. train/test dataset split fraction, 3. List of names for all the columns in the dataset 4. list of name for all the features that will be used, 5. name for the label column, 6. Hyperparameters - Learning_rate and Epoch and Tensorboard Summary directory name"
   ]
  },
  {
   "cell_type": "code",
   "execution_count": 61,
   "metadata": {},
   "outputs": [],
   "source": [
    "def run_model(fname, dsplit,column_names,feature_column_names, label_column_name, lrate, epoch_run, train_batch_size, summary_directry):\n",
    "    \"\"\"\n",
    "    Main process to run the graph of the model in the session\n",
    "    \"\"\"   \n",
    "    ##  Read, Analyze dataset and Create Train and Test datasets\n",
    "    filename = fname\n",
    "    data = pd.read_csv(filename, names=column_names)\n",
    "    analyze_initial_dataset(data, feature_column_names,label_column_name)\n",
    "    train_data, test_data = create_Train_Test_dataset(data,label_column_name, dsplit)\n",
    "    \n",
    "    ##  Create graph\n",
    "    g = tf.Graph()\n",
    "    with g.as_default():\n",
    "        \n",
    "         ##  Define Variables \n",
    "         with tf.name_scope(\"Global_Variables\"):\n",
    "               ## summary Variables\n",
    "               global_step = tf.Variable(0, dtype=tf.int32, name=\"global_step\")\n",
    "               increment_step = global_step.assign_add(1)\n",
    "    \n",
    "               ## Variables for Predictions (Weights/slopes and Bias/error)\n",
    "               W = tf.Variable(tf.zeros([4, 3]), name = \"weights\")\n",
    "               b = tf.Variable(tf.zeros([3]), name = \"bias\")\n",
    "               \n",
    "               ## Hyperparameter Variables\n",
    "               learning_rate = lrate\n",
    "               epoch=epoch_run\n",
    "               batch_size = train_batch_size\n",
    "\n",
    "         ##  Define main Logic for the model  \n",
    "         ##  Rest name scopes are self explanatory\n",
    "         with tf.name_scope(\"Logistic_Regression\"):\n",
    "             \n",
    "             with tf.name_scope(\"Input_Variables\"):\n",
    "                 x = tf.placeholder(tf.float32, shape=[None, 4], name=\"input_Features\")\n",
    "                 y = tf.placeholder(tf.float32, shape=[None,3], name=\"input_Labels\")\n",
    "             \n",
    "             with tf.name_scope(\"Predicted_Output\"):\n",
    "                  y_predicted =  reg_model(x, W, b)\n",
    "                  \n",
    "             with tf.name_scope(\"Loss_and_Accuracy\"):\n",
    "                  total_loss  =  loss(y_predicted, y)\n",
    "                  train_opt   =  optimize_loss(learning_rate,total_loss)\n",
    "                  accuracy    =  calculate_accuracy(y, y_predicted)\n",
    "                  \n",
    "         with tf.name_scope(\"Summaries\"):\n",
    "                tf.summary.scalar('Loss_Summary', total_loss)  # Creates summary for output node\n",
    "                tf.summary.scalar('Accuracy', accuracy)\n",
    "                \n",
    "         with tf.name_scope(\"Global_Ops\"):\n",
    "               init = tf.global_variables_initializer()\n",
    "               merged_summaries = tf.summary.merge_all()\n",
    "    \n",
    "    ## Run the Graph - Calculate weights and Bias for optimal prediction           \n",
    "    sess = tf.Session(graph=g)\n",
    "    writer = tf.summary.FileWriter(summary_directry, g)\n",
    "    sess.run(init)\n",
    "    batch_ind=0\n",
    "    last_two = epoch - 2\n",
    "    print(\" \")\n",
    "    print(\"Learning Rate is:\", learning_rate)\n",
    "    print(\"epoch is:\", epoch)\n",
    "    print(\"Batch size is:\", batch_size)\n",
    "    print(\" \")\n",
    "    \n",
    "    ##  Training Loop\n",
    "    print(\"--------------------------   Begin Training  -------------------------------\")\n",
    "    \n",
    "    for step in range(epoch):\n",
    "        batch_ind = 0\n",
    "      \n",
    "        for batch in range(int((len(train_data.index)+1)/30)):\n",
    "            start = batch_ind\n",
    "            stop = batch_ind + 29\n",
    "            #print('start and stop is',start,' ...',stop)\n",
    "            x_features  = train_data.loc[start:stop, feature_column_names]\n",
    "            ## reshape to match the input variable x and matrix multiplication with W\n",
    "            x_input = x_features.values.reshape(batch_size, 4)\n",
    "          \n",
    "            y_labels = train_data.loc[start:stop, label_column_name]\n",
    "            ## Convert to List to match matrix multiplication during the loss calculation\n",
    "            y_input_arr = list(y_labels)  \n",
    "            y_input = y_input_arr\n",
    "          \n",
    "            feed_dict={x: x_input, y: y_input}\n",
    "            error, _, summary, incr_step = sess.run([total_loss, train_opt,merged_summaries, increment_step ], feed_dict=feed_dict)            \n",
    "            writer.add_summary(summary, global_step=incr_step)\n",
    "            batch_ind+=29\n",
    "        if step%500 == 0:\n",
    "             print ('Training Loss is :',error)\n",
    "        if step > last_two:\n",
    "             print ('Training Loss is :',error)\n",
    "        \n",
    "    print(\" \")\n",
    "    print(\"--------------------------   End Training  -------------------------------\")\n",
    "    print(\" \")\n",
    "    ## End of above training loop\n",
    "    \n",
    "    ## Perform random test\n",
    "    print(\"-----------------   Prediction from Random Sample   ----------------------\")\n",
    "    test_random_dataset = [[5.1, 3.3, 1.7, 0.5, 'setosa'],\n",
    "                           [5.9, 3.0, 4.2, 1.5, 'versicolor'],\n",
    "                           [6.9, 3.1, 5.4, 2.1,'virginica'],\n",
    "                           [6.0, 3.4, 4.5, 1.6,'versicolor'],\n",
    "                           [5.7, 2.6, 3.5, 1.0,'versicolor']]\n",
    "    \n",
    "    for x_random_input in test_random_dataset:\n",
    "         \n",
    "         prediction = sess.run([tf.argmax(y_predicted, 1)], feed_dict={x: [x_random_input[0:4]]})\n",
    "         ##print('prediction value is ',prediction)\n",
    "         if prediction[0] == 0 :\n",
    "             print(\"Actual flower is:\", x_random_input[4],\"    ----->  Predicted flower is ': Iris_setosa\")\n",
    "         elif prediction[0] == 1 :\n",
    "             print(\"Actual flower is:\", x_random_input[4],\"    ----->  Predicted flower is ': Iris_versicolor\")\n",
    "         else:\n",
    "             print(\"Actual flower is:\", x_random_input[4],\"    ----->  Predicted flower is ': Iris_virginica\")\n",
    "    \n",
    "    \n",
    "    print(\" \")\n",
    "    print(\"-----------------   Testing the model   ----------------------\")\n",
    "    x_test_accuracy_input, y_test_labels_frame = get_features_labels(test_data, feature_column_names, label_column_name)\n",
    "    y_test_accuracy_input=list(y_test_labels_frame)\n",
    "    \n",
    "    prediction_accuracy = sess.run(accuracy, feed_dict={x: x_test_accuracy_input, y:y_test_accuracy_input})\n",
    "    print(\"Accuracy of this Model is: \",prediction_accuracy * 100,\"%\") \n",
    "    \n",
    "    print(\" \")\n",
    "    print(\"--- End of the Learning process --- \")\n",
    "    sess.close()\n",
    "    \n",
    "    writer.flush()\n",
    "    writer.close()\n",
    "    sess.close()"
   ]
  },
  {
   "cell_type": "markdown",
   "metadata": {},
   "source": [
    "### Run the program from here"
   ]
  },
  {
   "cell_type": "code",
   "execution_count": 62,
   "metadata": {},
   "outputs": [
    {
     "name": "stdout",
     "output_type": "stream",
     "text": [
      "TensorFlow version: 1.12.0\n",
      "Python version: 3.6.8 (v3.6.8:3c6b436a57, Dec 24 2018, 02:04:31) \n",
      "[GCC 4.2.1 Compatible Apple LLVM 6.0 (clang-600.0.57)]\n",
      " \n",
      "-------------------   Summary information of Iris Dataset   ---------------------------\n",
      "       sepal_length  sepal_width  petal_length  petal_width\n",
      "count    150.000000   150.000000    150.000000   150.000000\n",
      "mean       5.843333     3.054000      3.758667     1.198667\n",
      "std        0.828066     0.433594      1.764420     0.763161\n",
      "min        4.300000     2.000000      1.000000     0.100000\n",
      "25%        5.100000     2.800000      1.600000     0.300000\n",
      "50%        5.800000     3.000000      4.350000     1.300000\n",
      "75%        6.400000     3.300000      5.100000     1.800000\n",
      "max        7.900000     4.400000      6.900000     2.500000\n",
      " \n",
      "---------------   End of Summary information of Iris Dataset   ------------------------\n",
      " \n",
      "Total Number of records in Iris Dataset is  150\n",
      "Total number of records in Training Set : 119\n",
      "Total number of records in Testing Set : 31\n",
      "  \n",
      " \n",
      "Learning Rate is: 0.0001\n",
      "epoch is: 3500\n",
      "Batch size is: 30\n",
      " \n",
      "--------------------------   Begin Training  -------------------------------\n",
      "Training Loss is : 1.0980779\n",
      "Training Loss is : 0.8021248\n",
      "Training Loss is : 0.6297502\n",
      "Training Loss is : 0.52280027\n",
      "Training Loss is : 0.4485799\n",
      "Training Loss is : 0.39252356\n",
      "Training Loss is : 0.34764677\n",
      "Training Loss is : 0.3105134\n",
      " \n",
      "--------------------------   End Training  -------------------------------\n",
      " \n",
      "-----------------   Prediction from Random Sample   ----------------------\n",
      "Actual flower is: setosa     ----->  Predicted flower is ': Iris_setosa\n",
      "Actual flower is: versicolor     ----->  Predicted flower is ': Iris_versicolor\n",
      "Actual flower is: virginica     ----->  Predicted flower is ': Iris_virginica\n",
      "Actual flower is: versicolor     ----->  Predicted flower is ': Iris_versicolor\n",
      "Actual flower is: versicolor     ----->  Predicted flower is ': Iris_versicolor\n",
      " \n",
      "-----------------   Testing the model   ----------------------\n",
      "Accuracy of this Model is:  93.54838728904724 %\n",
      " \n",
      "--- End of the Learning process --- \n"
     ]
    },
    {
     "data": {
      "image/png": "[encoded data removed]",
      "text/plain": [
       "<Figure size 432x288 with 1 Axes>"
      ]
     },
     "metadata": {
      "needs_background": "light"
     },
     "output_type": "display_data"
    }
   ],
   "source": [
    "\"\"\" Program runs from here\"\"\"\n",
    "print(\"TensorFlow version: {}\".format(tf.__version__))\n",
    "print(\"Python version: {}\".format(sys.version))\n",
    "print(' ')\n",
    "data_filename = '/Users/Aadya/Documents/2018_Machine_Learning/Berkley_Tflow/HomeWork/Project/iris-species/Iris.csv'\n",
    "dataset_split       = 0.8\n",
    "All_column_names = ['sepal_length', 'sepal_width', 'petal_length', 'petal_width', 'species']\n",
    "features_names = ['sepal_length', 'sepal_width', 'petal_length', 'petal_width']\n",
    "label_name = 'species'\n",
    "\n",
    "##  Hyperparameters\n",
    "hp_learning_rate = 0.0001\n",
    "hp_epoch         = 3500\n",
    "hp_batch_size = 30\n",
    "\n",
    "summary_directory_name = './Gaigavale_P_project_graph'\n",
    "run_model(data_filename, dataset_split, All_column_names,features_names, label_name, hp_learning_rate, hp_epoch, hp_batch_size, summary_directory_name)\n"
   ]
  },
  {
   "cell_type": "code",
   "execution_count": null,
   "metadata": {},
   "outputs": [],
   "source": []
  }
 ],
 "metadata": {
  "kernelspec": {
   "display_name": "Python 3",
   "language": "python",
   "name": "python3"
  },
  "language_info": {
   "codemirror_mode": {
    "name": "ipython",
    "version": 3
   },
   "file_extension": ".py",
   "mimetype": "text/x-python",
   "name": "python",
   "nbconvert_exporter": "python",
   "pygments_lexer": "ipython3",
   "version": "3.6.8"
  }
 },
 "nbformat": 4,
 "nbformat_minor": 2
}
